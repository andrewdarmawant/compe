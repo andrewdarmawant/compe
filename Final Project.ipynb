{
 "cells": [
  {
   "cell_type": "code",
   "execution_count": null,
   "metadata": {},
   "outputs": [],
   "source": [
    "import tkinter as tk\n",
    "from tkinter import font\n",
    "import aylien_news_api\n",
    "from aylien_news_api.rest import ApiException\n",
    "\n",
    "aylien_news_api.configuration.api_key['X-AYLIEN-NewsAPI-Application-ID'] = ' 59139373'\n",
    "aylien_news_api.configuration.api_key['X-AYLIEN-NewsAPI-Application-Key'] = 'ce52a537a8fac6a82ce7ed55473a0444'\n",
    "\n",
    "api_instance = aylien_news_api.DefaultApi()\n",
    "\n",
    "keywords = input(\"search: \")\n",
    "opts = {\n",
    "  'title': keywords,\n",
    "  'sort_by': 'social_shares_count.facebook',\n",
    "  'language': ['en'],\n",
    "  'published_at_start': 'NOW-31DAYS',\n",
    "  'published_at_end': 'NOW',\n",
    "}\n",
    "\n",
    "window = tk.Tk()\n",
    "\n",
    "def createWindow():\n",
    "    api_response = api_instance.list_stories(**opts)\n",
    "    my_font = font.Font(family='TImes', size=12, weight='bold')\n",
    "    window.geometry('400x500')\n",
    "    author = tk.Label(window, text=api_response.stories[0].author.name).pack()\n",
    "    story = tk.Label(window, text=api_response.stories[0].body, font = my_font).pack()\n",
    "    window.mainloop()\n",
    "    \n",
    "    \n",
    "try:\n",
    "    # List stories\n",
    "    createWindow()\n",
    "    print(\"====================================================================================\")\n",
    "except ApiException as e:\n",
    "    print(\"Exception when calling DefaultApi->list_stories: %s\\n\" % e)"
   ]
  },
  {
   "cell_type": "code",
   "execution_count": null,
   "metadata": {},
   "outputs": [],
   "source": []
  },
  {
   "cell_type": "code",
   "execution_count": null,
   "metadata": {},
   "outputs": [],
   "source": []
  }
 ],
 "metadata": {
  "kernelspec": {
   "display_name": "Python 3",
   "language": "python",
   "name": "python3"
  },
  "language_info": {
   "codemirror_mode": {
    "name": "ipython",
    "version": 3
   },
   "file_extension": ".py",
   "mimetype": "text/x-python",
   "name": "python",
   "nbconvert_exporter": "python",
   "pygments_lexer": "ipython3",
   "version": "3.6.8"
  }
 },
 "nbformat": 4,
 "nbformat_minor": 2
}
